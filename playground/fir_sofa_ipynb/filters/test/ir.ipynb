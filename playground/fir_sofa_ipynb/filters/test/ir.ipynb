{
 "cells": [
  {
   "cell_type": "code",
   "execution_count": 3,
   "metadata": {
    "collapsed": true,
    "pycharm": {
     "is_executing": false
    }
   },
   "outputs": [],
   "source": [
    "import sys\n",
    "import os.path\n",
    "import numpy as np\n",
    "import pandas as pd\n",
    "import wave\n",
    "import matplotlib\n",
    "import matplotlib.pyplot as plt\n",
    "import matplotlib.ticker as ticker\n",
    "from numba import jit\n",
    "from matplotlib.backends.backend_pdf import PdfPages\n",
    "from collections import OrderedDict\n",
    "from scipy import signal\n",
    "from scipy.optimize import curve_fit \n",
    "from functools import wraps\n"
   ]
  },
  {
   "cell_type": "code",
   "execution_count": 4,
   "metadata": {
    "pycharm": {
     "is_executing": false,
     "name": "#%%\n"
    }
   },
   "outputs": [
    {
     "data": {
      "text/plain": [
       "<Figure size 800x1100 with 0 Axes>"
      ]
     },
     "metadata": {},
     "output_type": "display_data"
    }
   ],
   "source": [
    "\n",
    "\n",
    "current_dir = os.path.dirname(os.path.abspath(\"__file__\"))\n",
    "# モジュールのあるパスを追加\n",
    "sys.path.append( str(current_dir) + '/../../research_tools' )\n",
    "\n",
    "# get_ipython().run_line_magic('matplotlib', 'inline')\n",
    "%matplotlib inline\n",
    "\n",
    "plt.rcParams['font.family'] ='IPAPGothic' #使用するフォント\n",
    "plt.rcParams['xtick.direction'] = 'in' #x軸の目盛線が内向き('in')か外向き('out')か双方向か('inout')\n",
    "plt.rcParams['ytick.direction'] = 'in' #y軸の目盛線が内向き('in')か外向き('out')か双方向か('inout')\n",
    "plt.rcParams['xtick.top'] = True #x軸の目盛線の上側を表示\n",
    "plt.rcParams['ytick.right'] = True #y軸の目盛線の右側を表示\n",
    "plt.rcParams['xtick.major.width'] = 1.0 #x軸主目盛り線の線幅\n",
    "plt.rcParams['ytick.major.width'] = 1.0 #y軸主目盛り線の線幅\n",
    "plt.rcParams['font.size'] = 11 #フォントの大きさ\n",
    "plt.rcParams['axes.linewidth'] = 1.0 #軸の線幅edge linewidth。囲みの太さ\n",
    "plt.rcParams['figure.figsize'] = (7,5)\n",
    "plt.rcParams['figure.dpi'] = 100 #dpiの設定\n",
    "plt.rcParams['figure.subplot.hspace'] = 0.3 # 図と図の幅\n",
    "plt.rcParams['figure.subplot.wspace'] = 0.3 # 図と図の幅\n",
    "\n",
    "fig = plt.figure(figsize=(8, 11))"
   ]
  },
  {
   "cell_type": "code",
   "execution_count": 5,
   "metadata": {
    "pycharm": {
     "is_executing": false,
     "name": "#%%\n"
    }
   },
   "outputs": [
    {
     "name": "stdout",
     "output_type": "stream",
     "text": [
      "Window Not Found\n"
     ]
    }
   ],
   "source": [
    "try:\n",
    "    import decorators\n",
    "    # import plot_tool\n",
    "    import plot_tools\n",
    "    import adaptive_filters\n",
    "    import adaptive_filters_v2\n",
    "    import wave_process\n",
    "except ModuleNotFoundError as err:\n",
    "    print(err)\n",
    "    sys.path.append( str(current_dir) + '/programs' )\n",
    "    print(sys.path)\n",
    "    print(\"Add path : ./programs\")\n",
    "    import decorators\n",
    "    # import plot_tool\n",
    "    import plot_tools\n",
    "    import adaptive_filters\n",
    "    import wave_process"
   ]
  },
  {
   "cell_type": "code",
   "execution_count": 6,
   "metadata": {
    "pycharm": {
     "is_executing": false,
     "name": "#%%\n"
    }
   },
   "outputs": [
    {
     "name": "stdout",
     "output_type": "stream",
     "text": [
      "分析対象ファイル： ../../sample_wav/fukushima.wav\n",
      "チャンクサイズ： 3098892\n",
      "サンプルサイズのバイト数： 2\n",
      "チャンネル数： 1\n",
      "wavファイルのサンプリング周波数： 48000\n",
      "パラメータ :  _wave_params(nchannels=1, sampwidth=2, framerate=48000, nframes=3098892, comptype='NONE', compname='not compressed')\n",
      "wavファイルのデータ個数： 3098892\n"
     ]
    }
   ],
   "source": [
    "wr = wave_process.wave_process('../../sample_wav/fukushima.wav')"
   ]
  },
  {
   "cell_type": "code",
   "execution_count": 7,
   "metadata": {
    "pycharm": {
     "is_executing": false,
     "name": "#%%\n"
    }
   },
   "outputs": [
    {
     "data": {
      "text/plain": [
       "2"
      ]
     },
     "execution_count": 7,
     "metadata": {},
     "output_type": "execute_result"
    }
   ],
   "source": [
    "wr.width"
   ]
  },
  {
   "cell_type": "code",
   "execution_count": 8,
   "metadata": {
    "pycharm": {
     "is_executing": false,
     "name": "#%%\n"
    }
   },
   "outputs": [],
   "source": [
    "wr = wave_process.wave_process()"
   ]
  },
  {
   "cell_type": "code",
   "execution_count": 9,
   "metadata": {
    "pycharm": {
     "is_executing": false,
     "name": "#%%\n"
    }
   },
   "outputs": [
    {
     "data": {
      "text/plain": [
       "<wave_process.wave_process at 0x12a763fd0>"
      ]
     },
     "execution_count": 9,
     "metadata": {},
     "output_type": "execute_result"
    }
   ],
   "source": [
    "wr"
   ]
  },
  {
   "cell_type": "code",
   "execution_count": 10,
   "metadata": {
    "pycharm": {
     "is_executing": false,
     "name": "#%%\n"
    }
   },
   "outputs": [],
   "source": [
    "wr.width = 2 "
   ]
  },
  {
   "cell_type": "code",
   "execution_count": 11,
   "metadata": {
    "pycharm": {
     "is_executing": false,
     "name": "#%%\n"
    }
   },
   "outputs": [],
   "source": [
    "def get_tsp(order=18):\n",
    "    N = 2 ** order + 2 ** (order - 1)  # length of signal\n",
    "    J = 2 ** order  # effective length\n",
    "    shift = int((N - J) / 2)\n",
    "    TSP = np.exp(-1j * (2 * np.pi) * J * (np.arange(int(N / 2)) / N) ** 2)\n",
    "    TSP = TSP * np.exp(-1j * (2 * np.pi) * (shift / N) * np.arange(int(N / 2)))\n",
    "    iTSP = 1 / TSP\n",
    "    tsp = np.fft.irfft(TSP)\n",
    "    itsp = np.fft.irfft(iTSP)\n",
    "    return tsp / np.max(np.abs(tsp)), itsp / np.max(np.abs(itsp))"
   ]
  },
  {
   "cell_type": "code",
   "execution_count": 12,
   "metadata": {
    "pycharm": {
     "is_executing": false,
     "name": "#%%\n"
    }
   },
   "outputs": [],
   "source": [
    "order = 18\n",
    "tsp,itsp = get_tsp(order)"
   ]
  },
  {
   "cell_type": "code",
   "execution_count": null,
   "metadata": {
    "pycharm": {
     "is_executing": true,
     "name": "#%%\n"
    }
   },
   "outputs": [],
   "source": [
    "wr.ch = 1 \n"
   ]
  },
  {
   "cell_type": "code",
   "execution_count": null,
   "metadata": {
    "pycharm": {
     "is_executing": true,
     "name": "#%%\n"
    }
   },
   "outputs": [],
   "source": [
    "wr.fs = 48000"
   ]
  },
  {
   "cell_type": "code",
   "execution_count": 15,
   "metadata": {
    "pycharm": {
     "is_executing": false,
     "name": "#%%\n"
    }
   },
   "outputs": [],
   "source": [
    "wr.wave_write('../../tsp.wav', tsp)\n"
   ]
  },
  {
   "cell_type": "code",
   "execution_count": null,
   "metadata": {
    "pycharm": {
     "name": "#%%\n"
    }
   },
   "outputs": [],
   "source": [
    "\n"
   ]
  }
 ],
 "metadata": {
  "kernelspec": {
   "display_name": "Python 3",
   "language": "python",
   "name": "python3"
  },
  "language_info": {
   "codemirror_mode": {
    "name": "ipython",
    "version": 3
   },
   "file_extension": ".py",
   "mimetype": "text/x-python",
   "name": "python",
   "nbconvert_exporter": "python",
   "pygments_lexer": "ipython3",
   "version": "3.7.5"
  },
  "pycharm": {
   "stem_cell": {
    "cell_type": "raw",
    "metadata": {
     "collapsed": false
    },
    "source": []
   }
  }
 },
 "nbformat": 4,
 "nbformat_minor": 1
}
