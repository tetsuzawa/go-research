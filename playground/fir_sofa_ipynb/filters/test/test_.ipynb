{
 "cells": [
  {
   "cell_type": "code",
   "execution_count": 1,
   "metadata": {},
   "outputs": [],
   "source": [
    "# Library_Import#############################\n",
    "# from numpy import *\n",
    "import math\n",
    "import numpy as np\n",
    "import matplotlib.pyplot as plt\n",
    "# Library_Import_end##########################\n",
    "\n",
    "\n",
    "\n"
   ]
  },
  {
   "cell_type": "code",
   "execution_count": 2,
   "metadata": {},
   "outputs": [
    {
     "data": {
      "text/plain": [
       "<Figure size 800x1100 with 0 Axes>"
      ]
     },
     "metadata": {},
     "output_type": "display_data"
    },
    {
     "data": {
      "text/plain": [
       "<Figure size 800x1100 with 0 Axes>"
      ]
     },
     "metadata": {},
     "output_type": "display_data"
    }
   ],
   "source": [
    "import sys\n",
    "import os.path\n",
    "import numpy as np\n",
    "import pandas as pd\n",
    "import wave\n",
    "import matplotlib\n",
    "import matplotlib.pyplot as plt\n",
    "import matplotlib.ticker as ticker\n",
    "from matplotlib.backends.backend_pdf import PdfPages\n",
    "from collections import OrderedDict\n",
    "from scipy import signal\n",
    "from scipy.optimize import curve_fit \n",
    "from functools import wraps\n",
    "\n",
    "# ディレクトリの絶対パスを取得\n",
    "current_dir = os.path.dirname(os.path.abspath(\"__file__\"))\n",
    "# モジュールのあるパスを追加\n",
    "sys.path.append( str(current_dir) + '/../../programs' )\n",
    "\n",
    "get_ipython().run_line_magic('matplotlib', 'inline')\n",
    "%matplotlib inline\n",
    "\n",
    "plt.rcParams['font.family'] ='IPAPGothic' #使用するフォント\n",
    "plt.rcParams['xtick.direction'] = 'in' #x軸の目盛線が内向き('in')か外向き('out')か双方向か('inout')\n",
    "plt.rcParams['ytick.direction'] = 'in' #y軸の目盛線が内向き('in')か外向き('out')か双方向か('inout')\n",
    "plt.rcParams['xtick.top'] = True #x軸の目盛線の上側を表示\n",
    "plt.rcParams['ytick.right'] = True #y軸の目盛線の右側を表示\n",
    "plt.rcParams['xtick.major.width'] = 1.0 #x軸主目盛り線の線幅\n",
    "plt.rcParams['ytick.major.width'] = 1.0 #y軸主目盛り線の線幅\n",
    "plt.rcParams['font.size'] = 11 #フォントの大きさ\n",
    "plt.rcParams['axes.linewidth'] = 1.0 #軸の線幅edge linewidth。囲みの太さ\n",
    "plt.rcParams['figure.figsize'] = (7,5)\n",
    "plt.rcParams['figure.dpi'] = 100 #dpiの設定\n",
    "plt.rcParams['figure.subplot.hspace'] = 0.3 # 図と図の幅\n",
    "plt.rcParams['figure.subplot.wspace'] = 0.3 # 図と図の幅\n",
    "\n",
    "fig = plt.figure(figsize=(8, 11))\n",
    "fig = plt.figure(figsize=(8, 11))"
   ]
  },
  {
   "cell_type": "code",
   "execution_count": 3,
   "metadata": {},
   "outputs": [
    {
     "name": "stdout",
     "output_type": "stream",
     "text": [
      "Window Not Found\n"
     ]
    }
   ],
   "source": [
    "from plot_tool import plot_3charts\n",
    "import research_tools"
   ]
  },
  {
   "cell_type": "code",
   "execution_count": null,
   "metadata": {},
   "outputs": [],
   "source": [
    "t = np.linspace"
   ]
  }
 ],
 "metadata": {
  "kernelspec": {
   "display_name": "Python 3",
   "language": "python",
   "name": "python3"
  },
  "language_info": {
   "codemirror_mode": {
    "name": "ipython",
    "version": 3
   },
   "file_extension": ".py",
   "mimetype": "text/x-python",
   "name": "python",
   "nbconvert_exporter": "python",
   "pygments_lexer": "ipython3",
   "version": "3.7.5"
  }
 },
 "nbformat": 4,
 "nbformat_minor": 2
}
