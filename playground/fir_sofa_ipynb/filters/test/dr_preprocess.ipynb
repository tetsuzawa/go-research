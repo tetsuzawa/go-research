{
 "cells": [
  {
   "cell_type": "code",
   "execution_count": 1,
   "metadata": {
    "pycharm": {
     "is_executing": false
    }
   },
   "outputs": [
    {
     "data": {
      "text/plain": "<Figure size 800x1100 with 0 Axes>"
     },
     "metadata": {},
     "output_type": "display_data"
    }
   ],
   "source": [
    "import sys\n",
    "import os.path\n",
    "import numpy as np\n",
    "import pandas as pd\n",
    "import wave\n",
    "import matplotlib\n",
    "import matplotlib.pyplot as plt\n",
    "import matplotlib.ticker as ticker\n",
    "from numba import jit\n",
    "from matplotlib.backends.backend_pdf import PdfPages\n",
    "from collections import OrderedDict\n",
    "from scipy import signal\n",
    "from scipy.optimize import curve_fit \n",
    "from functools import wraps\n",
    "\n",
    "# ディレクトリの絶対パスを取得\n",
    "current_dir = os.path.dirname(os.path.abspath(\"__file__\"))\n",
    "# モジュールのあるパスを追加\n",
    "sys.path.append( str(current_dir) + '/../../research_tools' )\n",
    "sys.path.append( str(current_dir) + '/../../sample_wav' )\n",
    "\n",
    "# get_ipython().run_line_magic('matplotlib', 'inline')\n",
    "%matplotlib inline\n",
    "\n",
    "plt.rcParams['font.family'] ='IPAPGothic' #使用するフォント\n",
    "plt.rcParams['xtick.direction'] = 'in' #x軸の目盛線が内向き('in')か外向き('out')か双方向か('inout')\n",
    "plt.rcParams['ytick.direction'] = 'in' #y軸の目盛線が内向き('in')か外向き('out')か双方向か('inout')\n",
    "plt.rcParams['xtick.top'] = True #x軸の目盛線の上側を表示\n",
    "plt.rcParams['ytick.right'] = True #y軸の目盛線の右側を表示\n",
    "plt.rcParams['xtick.major.width'] = 1.0 #x軸主目盛り線の線幅\n",
    "plt.rcParams['ytick.major.width'] = 1.0 #y軸主目盛り線の線幅\n",
    "plt.rcParams['font.size'] = 11 #フォントの大きさ\n",
    "plt.rcParams['axes.linewidth'] = 1.0 #軸の線幅edge linewidth。囲みの太さ\n",
    "plt.rcParams['figure.figsize'] = (7,5)\n",
    "plt.rcParams['figure.dpi'] = 100 #dpiの設定\n",
    "plt.rcParams['figure.subplot.hspace'] = 0.3 # 図と図の幅\n",
    "plt.rcParams['figure.subplot.wspace'] = 0.3 # 図と図の幅\n",
    "\n",
    "fig = plt.figure(figsize=(8, 11))"
   ]
  },
  {
   "cell_type": "code",
   "execution_count": 2,
   "metadata": {
    "pycharm": {
     "is_executing": false
    }
   },
   "outputs": [
    {
     "name": "stdout",
     "text": [
      "Window Not Found\n"
     ],
     "output_type": "stream"
    }
   ],
   "source": [
    "try:\n",
    "    import decorators\n",
    "    # import plot_tool\n",
    "    import plot_tools\n",
    "    import adaptive_filters\n",
    "    import adaptive_filters_v2\n",
    "    from wave_process import WaveHandler\n",
    "except ModuleNotFoundError as err:\n",
    "    print(err)\n",
    "    sys.path.append( str(current_dir) + '/programs' )\n",
    "    print(sys.path)\n",
    "    print(\"Add path : ./programs\")\n",
    "    import decorators\n",
    "    # import plot_tool\n",
    "    import plot_tools\n",
    "    import adaptive_filters\n",
    "    import wave_proce"
   ]
  },
  {
   "cell_type": "code",
   "execution_count": 5,
   "metadata": {},
   "outputs": [
    {
     "ename": "TypeError",
     "evalue": "wave_read() missing 1 required positional argument: 'filename'",
     "output_type": "error",
     "traceback": [
      "\u001b[0;31m---------------------------------------------------------------------------\u001b[0m",
      "\u001b[0;31mTypeError\u001b[0m                                 Traceback (most recent call last)",
      "\u001b[0;32m<ipython-input-5-04663f4d626a>\u001b[0m in \u001b[0;36m<module>\u001b[0;34m\u001b[0m\n\u001b[0;32m----> 1\u001b[0;31m \u001b[0mdr_01\u001b[0m \u001b[0;34m=\u001b[0m \u001b[0mWaveHandler\u001b[0m\u001b[0;34m.\u001b[0m\u001b[0mwave_read\u001b[0m\u001b[0;34m(\u001b[0m\u001b[0;34m\"drone_10_11/dr_level_01.wav\"\u001b[0m\u001b[0;34m)\u001b[0m\u001b[0;34m\u001b[0m\u001b[0;34m\u001b[0m\u001b[0m\n\u001b[0m",
      "\u001b[0;31mTypeError\u001b[0m: wave_read() missing 1 required positional argument: 'filename'"
     ]
    }
   ],
   "source": [
    "dr_01 = WaveHandler.wave_read(\"drone_10_11/dr_level_01.wav\")"
   ]
  },
  {
   "cell_type": "code",
   "execution_count": null,
   "metadata": {},
   "outputs": [],
   "source": []
  }
 ],
 "metadata": {
  "kernelspec": {
   "display_name": "Python 3",
   "language": "python",
   "name": "python3"
  },
  "language_info": {
   "codemirror_mode": {
    "name": "ipython",
    "version": 3
   },
   "file_extension": ".py",
   "mimetype": "text/x-python",
   "name": "python",
   "nbconvert_exporter": "python",
   "pygments_lexer": "ipython3",
   "version": "3.7.3"
  },
  "pycharm": {
   "stem_cell": {
    "cell_type": "raw",
    "source": [],
    "metadata": {
     "collapsed": false
    }
   }
  }
 },
 "nbformat": 4,
 "nbformat_minor": 2
}