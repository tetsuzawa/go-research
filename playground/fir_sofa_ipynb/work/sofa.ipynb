{
 "cells": [
  {
   "cell_type": "code",
   "execution_count": 7,
   "metadata": {},
   "outputs": [
    {
     "name": "stdout",
     "output_type": "stream",
     "text": [
      "warning: addpath: ~/local/bin/SOFA_API: not a directory\r\n"
     ]
    }
   ],
   "source": [
    "% addpath(\"~/dev/API_MO\")\n",
    "addpath(\"~/local/bin/SOFA_API\")"
   ]
  },
  {
   "cell_type": "code",
   "execution_count": 2,
   "metadata": {},
   "outputs": [
    {
     "name": "stdout",
     "output_type": "stream",
     "text": [
      "error: 'SOFAstart' undefined near line 2 column 1\r\n"
     ]
    }
   ],
   "source": [
    "% Start SOFA\n",
    "SOFAstart;\n"
   ]
  },
  {
   "cell_type": "code",
   "execution_count": 5,
   "metadata": {},
   "outputs": [
    {
     "name": "stdout",
     "output_type": "stream",
     "text": [
      "error: Error loading the file: ~/personal_files/Research/sofafiles/sofatest/dtf_nh16.sofa\r\n",
      "error: called from\r\n",
      "    SOFAload at line 123 column 9\r\n"
     ]
    }
   ],
   "source": [
    "hrtf = SOFAload(\"~/personal_files/Research/sofafiles/sofatest/dtf_nh16.sofa\")"
   ]
  },
  {
   "cell_type": "code",
   "execution_count": 6,
   "metadata": {},
   "outputs": [
    {
     "name": "stdout",
     "output_type": "stream",
     "text": [
      "error: Error loading the file: ~/personal_files/Research/sofafiles/sofatest/dtf_nh16.sofa\n",
      "error: called from\n",
      "    SOFAload at line 123 column 9\n",
      "error: 'hrtf' undefined near line 2 column 10\n",
      "error: 'hrtf' undefined near line 2 column 18\n",
      "error: 'hrtf' undefined near line 2 column 6\n",
      "error: 'hrtf' undefined near line 2 column 1\n",
      "error: 'hrtf' undefined near line 1 column 1\n",
      "error: 'hrtf' undefined near line 2 column 1\n",
      "error: 'hrtf' undefined near line 1 column 1\n",
      "error: 'hrtf' undefined near line 1 column 1\n",
      "error: 'hrtf' undefined near line 2 column 41\n",
      "error: 'apparentSourceVector' undefined near line 2 column 1\n",
      "error: 'hrtf' undefined near line 1 column 18\n",
      "error: audioread: failed to open input file 'fancy_audio_file.wav': System error : No such file or directory.\n",
      "error: 'hrtf' undefined near line 1 column 29\n",
      "error: 'soundOutput' undefined near line 1 column 7\n"
     ]
    }
   ],
   "source": [
    "\n",
    "% Load your impulse response into a struct\n",
    "% hrtf = SOFAload('path/to_your/HRTF.sofa'));\n",
    "hrtf = SOFAload(\"~/personal_files/Research/sofafiles/sofatest/dtf_nh16.sofa\")\n",
    "% Display some information about the impulse response\n",
    "SOFAinfo(hrtf);\n",
    "% Plot a figure with the measurement setup\n",
    "SOFAplotGeometry(hrtf);\n",
    "% Have a look at the size of the data\n",
    "size(hrtf.Data.IR)\n",
    "% Get information about the measurement setup\n",
    "hrtf.ListenerPosition       % position of dummy head\n",
    "hrtf.SourcePosition         % position of loudspeaker\n",
    "% Head orientation of the dummy head + coordinate system and units\n",
    "hrtf.ListenerView\n",
    "hrtf.ListenerView_Type\n",
    "hrtf.ListenerView_Units\n",
    "% Calculate the source position from a listener point of view\n",
    "apparentSourceVector = SOFAcalculateAPV(hrtf);\n",
    "% Listen to the HRTF with azimuth of -90°\n",
    "apparentSourceVector(91, 1)\n",
    "SOFAplotGeometry(hrtf, 91);\n",
    "soundInput = audioread('fancy_audio_file.wav');\n",
    "soundOutput = [conv(squeeze(hrtf.Data.IR(91, 1, :)), soundInput) ...\n",
    "               conv(squeeze(hrtf.Data.IR(91, 2, :)), soundInput)];\n",
    "sound(soundOutput, hrtf.Data.SamplingRate);"
   ]
  },
  {
   "cell_type": "code",
   "execution_count": null,
   "metadata": {},
   "outputs": [],
   "source": []
  },
  {
   "cell_type": "code",
   "execution_count": null,
   "metadata": {},
   "outputs": [],
   "source": []
  },
  {
   "cell_type": "code",
   "execution_count": null,
   "metadata": {},
   "outputs": [],
   "source": []
  },
  {
   "cell_type": "code",
   "execution_count": null,
   "metadata": {},
   "outputs": [],
   "source": []
  },
  {
   "cell_type": "code",
   "execution_count": null,
   "metadata": {},
   "outputs": [],
   "source": []
  },
  {
   "cell_type": "code",
   "execution_count": null,
   "metadata": {},
   "outputs": [],
   "source": []
  },
  {
   "cell_type": "code",
   "execution_count": null,
   "metadata": {},
   "outputs": [],
   "source": []
  },
  {
   "cell_type": "code",
   "execution_count": null,
   "metadata": {},
   "outputs": [],
   "source": []
  },
  {
   "cell_type": "code",
   "execution_count": null,
   "metadata": {},
   "outputs": [],
   "source": []
  }
 ],
 "metadata": {
  "kernelspec": {
   "display_name": "Octave",
   "language": "octave",
   "name": "octave"
  },
  "language_info": {
   "file_extension": ".m",
   "help_links": [
    {
     "text": "GNU Octave",
     "url": "https://www.gnu.org/software/octave/support.html"
    },
    {
     "text": "Octave Kernel",
     "url": "https://github.com/Calysto/octave_kernel"
    },
    {
     "text": "MetaKernel Magics",
     "url": "https://metakernel.readthedocs.io/en/latest/source/README.html"
    }
   ],
   "mimetype": "text/x-octave",
   "name": "octave",
   "version": "5.1.0"
  }
 },
 "nbformat": 4,
 "nbformat_minor": 2
}
